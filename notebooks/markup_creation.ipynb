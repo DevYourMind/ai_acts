{
 "cells": [
  {
   "cell_type": "markdown",
   "metadata": {},
   "source": [
    "# Загрузка библиотек"
   ]
  },
  {
   "cell_type": "code",
   "execution_count": 1,
   "metadata": {},
   "outputs": [],
   "source": [
    "import os\n",
    "import random\n",
    "import numpy as np\n",
    "import pandas as pd\n",
    "from pathlib import Path\n",
    "from tqdm.notebook import tqdm"
   ]
  },
  {
   "cell_type": "code",
   "execution_count": 2,
   "metadata": {},
   "outputs": [],
   "source": [
    "RANDOM_STATE = 42\n",
    "random.seed(RANDOM_STATE)"
   ]
  },
  {
   "cell_type": "markdown",
   "metadata": {},
   "source": [
    "# Формирование датасета с метками"
   ]
  },
  {
   "cell_type": "code",
   "execution_count": 3,
   "metadata": {},
   "outputs": [],
   "source": [
    "def walk_through_dir(dir_path):\n",
    "  for dirpath, dirnames, filenames in os.walk(dir_path):\n",
    "    print(f\"There are {len(dirnames)} directories and {len(filenames)} unknown files\\tin '{dirpath}'.\")"
   ]
  },
  {
   "cell_type": "code",
   "execution_count": 4,
   "metadata": {},
   "outputs": [
    {
     "name": "stdout",
     "output_type": "stream",
     "text": [
      "There are 8 directories and 0 unknown files\tin '..\\data\\sorted_data_merged'.\n",
      "There are 0 directories and 1222 unknown files\tin '..\\data\\sorted_data_merged\\damaged'.\n",
      "There are 0 directories and 577 unknown files\tin '..\\data\\sorted_data_merged\\garbage'.\n",
      "There are 0 directories and 302 unknown files\tin '..\\data\\sorted_data_merged\\other'.\n",
      "There are 0 directories and 3307 unknown files\tin '..\\data\\sorted_data_merged\\receipts'.\n",
      "There are 0 directories and 99 unknown files\tin '..\\data\\sorted_data_merged\\receipt_damaged'.\n",
      "There are 0 directories and 571 unknown files\tin '..\\data\\sorted_data_merged\\receipt_undamaged'.\n",
      "There are 0 directories and 264 unknown files\tin '..\\data\\sorted_data_merged\\terminal'.\n",
      "There are 0 directories and 2463 unknown files\tin '..\\data\\sorted_data_merged\\undamaged'.\n"
     ]
    }
   ],
   "source": [
    "data_path = Path(\"../data/sorted_data_merged\")\n",
    "walk_through_dir(data_path)"
   ]
  },
  {
   "cell_type": "code",
   "execution_count": 16,
   "metadata": {},
   "outputs": [
    {
     "name": "stdout",
     "output_type": "stream",
     "text": [
      "There are 8 directories and 0 unknown files\tin '..\\data\\sorted_data_zharikov'.\n",
      "There are 0 directories and 954 unknown files\tin '..\\data\\sorted_data_zharikov\\damaged'.\n",
      "There are 0 directories and 206 unknown files\tin '..\\data\\sorted_data_zharikov\\garbage'.\n",
      "There are 0 directories and 160 unknown files\tin '..\\data\\sorted_data_zharikov\\other'.\n",
      "There are 0 directories and 3307 unknown files\tin '..\\data\\sorted_data_zharikov\\receipts'.\n",
      "There are 0 directories and 53 unknown files\tin '..\\data\\sorted_data_zharikov\\receipt_damaged'.\n",
      "There are 0 directories and 349 unknown files\tin '..\\data\\sorted_data_zharikov\\receipt_undamaged'.\n",
      "There are 0 directories and 110 unknown files\tin '..\\data\\sorted_data_zharikov\\terminal'.\n",
      "There are 0 directories and 1358 unknown files\tin '..\\data\\sorted_data_zharikov\\undamaged'.\n"
     ]
    }
   ],
   "source": [
    "walk_through_dir(Path(\"../data/sorted_data_zharikov\"))"
   ]
  },
  {
   "cell_type": "code",
   "execution_count": 15,
   "metadata": {},
   "outputs": [
    {
     "name": "stdout",
     "output_type": "stream",
     "text": [
      "There are 7 directories and 0 unknown files\tin '..\\data\\sorted_data_smirnov'.\n",
      "There are 0 directories and 268 unknown files\tin '..\\data\\sorted_data_smirnov\\damaged'.\n",
      "There are 0 directories and 371 unknown files\tin '..\\data\\sorted_data_smirnov\\garbage'.\n",
      "There are 0 directories and 142 unknown files\tin '..\\data\\sorted_data_smirnov\\other'.\n",
      "There are 0 directories and 46 unknown files\tin '..\\data\\sorted_data_smirnov\\receipt_damaged'.\n",
      "There are 0 directories and 222 unknown files\tin '..\\data\\sorted_data_smirnov\\receipt_undamaged'.\n",
      "There are 0 directories and 154 unknown files\tin '..\\data\\sorted_data_smirnov\\terminal'.\n",
      "There are 0 directories and 1105 unknown files\tin '..\\data\\sorted_data_smirnov\\undamaged'.\n"
     ]
    }
   ],
   "source": [
    "walk_through_dir(Path(\"../data/sorted_data_smirnov\"))"
   ]
  },
  {
   "cell_type": "code",
   "execution_count": 6,
   "metadata": {},
   "outputs": [
    {
     "data": {
      "application/vnd.jupyter.widget-view+json": {
       "model_id": "b998896bd7504439961ca08a7e42a6d5",
       "version_major": 2,
       "version_minor": 0
      },
      "text/plain": [
       "0it [00:00, ?it/s]"
      ]
     },
     "metadata": {},
     "output_type": "display_data"
    },
    {
     "name": "stdout",
     "output_type": "stream",
     "text": [
      "..\\data\\sorted_data_merged\n",
      "..\\data\\sorted_data_merged\\damaged\n",
      "..\\data\\sorted_data_merged\\garbage\n",
      "..\\data\\sorted_data_merged\\other\n",
      "..\\data\\sorted_data_merged\\receipts\n",
      "..\\data\\sorted_data_merged\\receipt_damaged\n",
      "..\\data\\sorted_data_merged\\receipt_undamaged\n",
      "..\\data\\sorted_data_merged\\terminal\n",
      "..\\data\\sorted_data_merged\\undamaged\n"
     ]
    }
   ],
   "source": [
    "# dataset with classes\n",
    "df_sorted_data = pd.DataFrame(\n",
    "    columns=[\n",
    "        'file_name', 'quality_photo', 'terminal', \n",
    "        'receipt', 'terminal_damaged', 'terminal_undamaged', \n",
    "        'terminal_unrecognized_defect', 'other'\n",
    "    ]\n",
    ")\n",
    "row_size = len(df_sorted_data.columns)\n",
    "for dirpath, dirnames, filenames in tqdm(os.walk(data_path)):\n",
    "    print(dirpath)\n",
    "    if len(filenames)==0:\n",
    "        continue\n",
    "    df_temp = pd.DataFrame(\n",
    "        columns=df_sorted_data.columns,\n",
    "        data=np.concatenate((\n",
    "            np.reshape(filenames, (-1, 1)), \n",
    "            np.zeros(shape=(len(filenames), row_size-1))\n",
    "        ), axis=1)\n",
    "    )\n",
    "    splitted_dirpath = dirpath.split('\\\\')[-1]\n",
    "    df_temp['file_name'] = df_temp['file_name'].apply(lambda x: f'{dirpath}\\{x}')\n",
    "    df_temp['quality_photo'] = 1\n",
    "    if 'garbage' == splitted_dirpath:\n",
    "        df_temp['quality_photo'] = 0\n",
    "        df_sorted_data = pd.concat((df_sorted_data, df_temp))\n",
    "        continue\n",
    "    if 'other' == splitted_dirpath:\n",
    "        df_temp['other'] = 1\n",
    "        df_sorted_data = pd.concat((df_sorted_data, df_temp))\n",
    "        continue\n",
    "    if any(x == splitted_dirpath for x in \n",
    "           ['damaged', 'receipt_damaged', 'receipt_undamaged', 'terminal', 'undamaged']\n",
    "        ):\n",
    "        df_temp['terminal'] = 1\n",
    "    if any(\n",
    "        x == splitted_dirpath for x in\n",
    "        ['receipts', 'receipt_damaged', 'receipt_undamaged']\n",
    "    ):\n",
    "        df_temp['receipt'] = 1\n",
    "    if any(\n",
    "        x == splitted_dirpath for x in\n",
    "        ['damaged', 'receipt_damaged']\n",
    "    ):\n",
    "        df_temp['terminal_damaged'] = 1\n",
    "    if any(\n",
    "        x == splitted_dirpath for x in\n",
    "        ['receipt_undamaged', 'undamaged']\n",
    "    ):\n",
    "        df_temp['terminal_undamaged'] = 1\n",
    "    if any(\n",
    "        x == splitted_dirpath for x in\n",
    "        ['terminal']\n",
    "    ):\n",
    "        df_temp['terminal_unrecognized_defect'] = 1\n",
    "    df_sorted_data = pd.concat((df_sorted_data, df_temp))\n",
    "df_sorted_data.reset_index(inplace=True, drop=True)"
   ]
  },
  {
   "cell_type": "code",
   "execution_count": 7,
   "metadata": {},
   "outputs": [],
   "source": [
    "df_sorted_data[df_sorted_data.columns[1:]] = df_sorted_data[\n",
    "    df_sorted_data.columns[1:]\n",
    "].astype(float).astype(int)"
   ]
  },
  {
   "cell_type": "markdown",
   "metadata": {},
   "source": [
    "## Проверки нелогичных сочетаний"
   ]
  },
  {
   "cell_type": "code",
   "execution_count": 8,
   "metadata": {},
   "outputs": [
    {
     "data": {
      "text/plain": [
       "(0, 8)"
      ]
     },
     "execution_count": 8,
     "metadata": {},
     "output_type": "execute_result"
    }
   ],
   "source": [
    "df_sorted_data.loc[\n",
    "    (df_sorted_data['terminal_damaged']==1) &\n",
    "    (df_sorted_data['terminal_undamaged']==1)\n",
    "].shape"
   ]
  },
  {
   "cell_type": "code",
   "execution_count": 9,
   "metadata": {},
   "outputs": [
    {
     "data": {
      "text/plain": [
       "file_name                       ..\\data\\sorted_data_merged\\other\\Без поврежден...\n",
       "quality_photo                                                                 302\n",
       "terminal                                                                        0\n",
       "receipt                                                                         0\n",
       "terminal_damaged                                                                0\n",
       "terminal_undamaged                                                              0\n",
       "terminal_unrecognized_defect                                                    0\n",
       "other                                                                         302\n",
       "dtype: object"
      ]
     },
     "execution_count": 9,
     "metadata": {},
     "output_type": "execute_result"
    }
   ],
   "source": [
    "df_sorted_data.loc[\n",
    "    df_sorted_data['other']==1\n",
    "].sum(axis=0)"
   ]
  },
  {
   "cell_type": "code",
   "execution_count": 10,
   "metadata": {},
   "outputs": [
    {
     "data": {
      "text/plain": [
       "(0, 8)"
      ]
     },
     "execution_count": 10,
     "metadata": {},
     "output_type": "execute_result"
    }
   ],
   "source": [
    "df_sorted_data.loc[\n",
    "    (df_sorted_data['terminal']==1) &\n",
    "    (df_sorted_data['terminal_damaged']==0) & \n",
    "    (df_sorted_data['terminal_undamaged']==0) & \n",
    "    (df_sorted_data['terminal_unrecognized_defect']==0)\n",
    "].shape"
   ]
  },
  {
   "cell_type": "code",
   "execution_count": 11,
   "metadata": {},
   "outputs": [
    {
     "data": {
      "text/plain": [
       "quality_photo                   0\n",
       "terminal                        0\n",
       "receipt                         0\n",
       "terminal_damaged                0\n",
       "terminal_undamaged              0\n",
       "terminal_unrecognized_defect    0\n",
       "other                           0\n",
       "dtype: int64"
      ]
     },
     "execution_count": 11,
     "metadata": {},
     "output_type": "execute_result"
    }
   ],
   "source": [
    "df_sorted_data.loc[\n",
    "    df_sorted_data['quality_photo']==0\n",
    "].iloc[:, 1:].sum(axis=0)"
   ]
  },
  {
   "cell_type": "markdown",
   "metadata": {},
   "source": [
    "Проверки пройдены"
   ]
  },
  {
   "cell_type": "code",
   "execution_count": 12,
   "metadata": {},
   "outputs": [],
   "source": [
    "df_sorted_data.to_pickle('../data/common_files/df_markup.pkl')"
   ]
  },
  {
   "cell_type": "code",
   "execution_count": 13,
   "metadata": {},
   "outputs": [
    {
     "data": {
      "text/html": [
       "<div>\n",
       "<style scoped>\n",
       "    .dataframe tbody tr th:only-of-type {\n",
       "        vertical-align: middle;\n",
       "    }\n",
       "\n",
       "    .dataframe tbody tr th {\n",
       "        vertical-align: top;\n",
       "    }\n",
       "\n",
       "    .dataframe thead th {\n",
       "        text-align: right;\n",
       "    }\n",
       "</style>\n",
       "<table border=\"1\" class=\"dataframe\">\n",
       "  <thead>\n",
       "    <tr style=\"text-align: right;\">\n",
       "      <th></th>\n",
       "      <th>file_name</th>\n",
       "      <th>quality_photo</th>\n",
       "      <th>terminal</th>\n",
       "      <th>receipt</th>\n",
       "      <th>terminal_damaged</th>\n",
       "      <th>terminal_undamaged</th>\n",
       "      <th>terminal_unrecognized_defect</th>\n",
       "      <th>other</th>\n",
       "    </tr>\n",
       "  </thead>\n",
       "  <tbody>\n",
       "    <tr>\n",
       "      <th>0</th>\n",
       "      <td>..\\data\\sorted_data_merged\\damaged\\1.jpg</td>\n",
       "      <td>1</td>\n",
       "      <td>1</td>\n",
       "      <td>0</td>\n",
       "      <td>1</td>\n",
       "      <td>0</td>\n",
       "      <td>0</td>\n",
       "      <td>0</td>\n",
       "    </tr>\n",
       "    <tr>\n",
       "      <th>1</th>\n",
       "      <td>..\\data\\sorted_data_merged\\damaged\\2.jpg</td>\n",
       "      <td>1</td>\n",
       "      <td>1</td>\n",
       "      <td>0</td>\n",
       "      <td>1</td>\n",
       "      <td>0</td>\n",
       "      <td>0</td>\n",
       "      <td>0</td>\n",
       "    </tr>\n",
       "    <tr>\n",
       "      <th>2</th>\n",
       "      <td>..\\data\\sorted_data_merged\\damaged\\3.jpg</td>\n",
       "      <td>1</td>\n",
       "      <td>1</td>\n",
       "      <td>0</td>\n",
       "      <td>1</td>\n",
       "      <td>0</td>\n",
       "      <td>0</td>\n",
       "      <td>0</td>\n",
       "    </tr>\n",
       "    <tr>\n",
       "      <th>3</th>\n",
       "      <td>..\\data\\sorted_data_merged\\damaged\\4.jpg</td>\n",
       "      <td>1</td>\n",
       "      <td>1</td>\n",
       "      <td>0</td>\n",
       "      <td>1</td>\n",
       "      <td>0</td>\n",
       "      <td>0</td>\n",
       "      <td>0</td>\n",
       "    </tr>\n",
       "    <tr>\n",
       "      <th>4</th>\n",
       "      <td>..\\data\\sorted_data_merged\\damaged\\5.jpg</td>\n",
       "      <td>1</td>\n",
       "      <td>1</td>\n",
       "      <td>0</td>\n",
       "      <td>1</td>\n",
       "      <td>0</td>\n",
       "      <td>0</td>\n",
       "      <td>0</td>\n",
       "    </tr>\n",
       "    <tr>\n",
       "      <th>...</th>\n",
       "      <td>...</td>\n",
       "      <td>...</td>\n",
       "      <td>...</td>\n",
       "      <td>...</td>\n",
       "      <td>...</td>\n",
       "      <td>...</td>\n",
       "      <td>...</td>\n",
       "      <td>...</td>\n",
       "    </tr>\n",
       "    <tr>\n",
       "      <th>8800</th>\n",
       "      <td>..\\data\\sorted_data_merged\\undamaged\\╨Ч╨Э╨Ю030...</td>\n",
       "      <td>1</td>\n",
       "      <td>1</td>\n",
       "      <td>0</td>\n",
       "      <td>0</td>\n",
       "      <td>1</td>\n",
       "      <td>0</td>\n",
       "      <td>0</td>\n",
       "    </tr>\n",
       "    <tr>\n",
       "      <th>8801</th>\n",
       "      <td>..\\data\\sorted_data_merged\\undamaged\\╨Ч╨Э╨Ю030...</td>\n",
       "      <td>1</td>\n",
       "      <td>1</td>\n",
       "      <td>0</td>\n",
       "      <td>0</td>\n",
       "      <td>1</td>\n",
       "      <td>0</td>\n",
       "      <td>0</td>\n",
       "    </tr>\n",
       "    <tr>\n",
       "      <th>8802</th>\n",
       "      <td>..\\data\\sorted_data_merged\\undamaged\\╨Ч╨Э╨Ю030...</td>\n",
       "      <td>1</td>\n",
       "      <td>1</td>\n",
       "      <td>0</td>\n",
       "      <td>0</td>\n",
       "      <td>1</td>\n",
       "      <td>0</td>\n",
       "      <td>0</td>\n",
       "    </tr>\n",
       "    <tr>\n",
       "      <th>8803</th>\n",
       "      <td>..\\data\\sorted_data_merged\\undamaged\\╨Ч╨Э╨Ю030...</td>\n",
       "      <td>1</td>\n",
       "      <td>1</td>\n",
       "      <td>0</td>\n",
       "      <td>0</td>\n",
       "      <td>1</td>\n",
       "      <td>0</td>\n",
       "      <td>0</td>\n",
       "    </tr>\n",
       "    <tr>\n",
       "      <th>8804</th>\n",
       "      <td>..\\data\\sorted_data_merged\\undamaged\\╨Ч╨Э╨Ю030...</td>\n",
       "      <td>1</td>\n",
       "      <td>1</td>\n",
       "      <td>0</td>\n",
       "      <td>0</td>\n",
       "      <td>1</td>\n",
       "      <td>0</td>\n",
       "      <td>0</td>\n",
       "    </tr>\n",
       "  </tbody>\n",
       "</table>\n",
       "<p>8805 rows × 8 columns</p>\n",
       "</div>"
      ],
      "text/plain": [
       "                                              file_name  quality_photo  \\\n",
       "0              ..\\data\\sorted_data_merged\\damaged\\1.jpg              1   \n",
       "1              ..\\data\\sorted_data_merged\\damaged\\2.jpg              1   \n",
       "2              ..\\data\\sorted_data_merged\\damaged\\3.jpg              1   \n",
       "3              ..\\data\\sorted_data_merged\\damaged\\4.jpg              1   \n",
       "4              ..\\data\\sorted_data_merged\\damaged\\5.jpg              1   \n",
       "...                                                 ...            ...   \n",
       "8800  ..\\data\\sorted_data_merged\\undamaged\\╨Ч╨Э╨Ю030...              1   \n",
       "8801  ..\\data\\sorted_data_merged\\undamaged\\╨Ч╨Э╨Ю030...              1   \n",
       "8802  ..\\data\\sorted_data_merged\\undamaged\\╨Ч╨Э╨Ю030...              1   \n",
       "8803  ..\\data\\sorted_data_merged\\undamaged\\╨Ч╨Э╨Ю030...              1   \n",
       "8804  ..\\data\\sorted_data_merged\\undamaged\\╨Ч╨Э╨Ю030...              1   \n",
       "\n",
       "      terminal  receipt  terminal_damaged  terminal_undamaged  \\\n",
       "0            1        0                 1                   0   \n",
       "1            1        0                 1                   0   \n",
       "2            1        0                 1                   0   \n",
       "3            1        0                 1                   0   \n",
       "4            1        0                 1                   0   \n",
       "...        ...      ...               ...                 ...   \n",
       "8800         1        0                 0                   1   \n",
       "8801         1        0                 0                   1   \n",
       "8802         1        0                 0                   1   \n",
       "8803         1        0                 0                   1   \n",
       "8804         1        0                 0                   1   \n",
       "\n",
       "      terminal_unrecognized_defect  other  \n",
       "0                                0      0  \n",
       "1                                0      0  \n",
       "2                                0      0  \n",
       "3                                0      0  \n",
       "4                                0      0  \n",
       "...                            ...    ...  \n",
       "8800                             0      0  \n",
       "8801                             0      0  \n",
       "8802                             0      0  \n",
       "8803                             0      0  \n",
       "8804                             0      0  \n",
       "\n",
       "[8805 rows x 8 columns]"
      ]
     },
     "execution_count": 13,
     "metadata": {},
     "output_type": "execute_result"
    }
   ],
   "source": [
    "df_sorted_data"
   ]
  }
 ],
 "metadata": {
  "kernelspec": {
   "display_name": "Python 3",
   "language": "python",
   "name": "python3"
  },
  "language_info": {
   "codemirror_mode": {
    "name": "ipython",
    "version": 3
   },
   "file_extension": ".py",
   "mimetype": "text/x-python",
   "name": "python",
   "nbconvert_exporter": "python",
   "pygments_lexer": "ipython3",
   "version": "3.10.11"
  },
  "orig_nbformat": 4
 },
 "nbformat": 4,
 "nbformat_minor": 2
}
